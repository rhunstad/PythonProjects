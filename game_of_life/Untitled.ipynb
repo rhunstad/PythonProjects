{
 "cells": [
  {
   "cell_type": "code",
   "execution_count": 1,
   "id": "4a01e680",
   "metadata": {},
   "outputs": [],
   "source": [
    "color = {\n",
    "    'big_canvas_fill': ['#a5e6c1', (0, 0, 0), (0, 0, 0)],\n",
    "    'big_canvas_out': ['#c7ffdf', (0, 0, 0), (-34, -25, -30)],\n",
    "    'control_panel_fill': ['#74c485', (0, 0, 0), (49, 34, 60)],\n",
    "    'control_panel_out': ['#74c485', (0, 0, 0), (49, 34, 60)],\n",
    "    'title_text_color': ['#007519', (0, 0, 0), (165, 113, 168)],\n",
    "    'text_color': ['#ffffff', (0, 0, 0), (-90, -25, -62)],\n",
    "    'text_color_active': ['#7affb4', (0, 0, 0), (43, -25, 13)],\n",
    "    'button_fill': ['#7affb4', (0, 0, 0), (43, -25, 13)],\n",
    "    'button_active': ['#ffffff', (0, 0, 0), (-90, -25, -62)],\n",
    "    'button_out': ['#7affb4', (0, 0, 0), (43, -25, 13)],\n",
    "    'rectangle_on': ['#74c485', (0, 0, 0), (49, 34, 60)],\n",
    "    'rectangle_off': ['#ffffff', (0, 0, 0), (-90, -25, -62)]\n",
    "}\n"
   ]
  },
  {
   "cell_type": "code",
   "execution_count": 2,
   "id": "f737bf28",
   "metadata": {},
   "outputs": [],
   "source": [
    "for item, value in color.items():\n",
    "    avg = (value[2][0] + value[2][1] + value[2][2]) // 3\n",
    "    rgb = (avg, avg, avg)\n",
    "    value[2] = rgb\n",
    "    color[item] = value"
   ]
  },
  {
   "cell_type": "code",
   "execution_count": 3,
   "id": "56a32be2",
   "metadata": {},
   "outputs": [
    {
     "data": {
      "text/plain": [
       "{'big_canvas_fill': ['#a5e6c1', (0, 0, 0), (0, 0, 0)],\n",
       " 'big_canvas_out': ['#c7ffdf', (0, 0, 0), (-30, -30, -30)],\n",
       " 'control_panel_fill': ['#74c485', (0, 0, 0), (47, 47, 47)],\n",
       " 'control_panel_out': ['#74c485', (0, 0, 0), (47, 47, 47)],\n",
       " 'title_text_color': ['#007519', (0, 0, 0), (148, 148, 148)],\n",
       " 'text_color': ['#ffffff', (0, 0, 0), (-59, -59, -59)],\n",
       " 'text_color_active': ['#7affb4', (0, 0, 0), (10, 10, 10)],\n",
       " 'button_fill': ['#7affb4', (0, 0, 0), (10, 10, 10)],\n",
       " 'button_active': ['#ffffff', (0, 0, 0), (-59, -59, -59)],\n",
       " 'button_out': ['#7affb4', (0, 0, 0), (10, 10, 10)],\n",
       " 'rectangle_on': ['#74c485', (0, 0, 0), (47, 47, 47)],\n",
       " 'rectangle_off': ['#ffffff', (0, 0, 0), (-59, -59, -59)]}"
      ]
     },
     "execution_count": 3,
     "metadata": {},
     "output_type": "execute_result"
    }
   ],
   "source": [
    "color"
   ]
  },
  {
   "cell_type": "code",
   "execution_count": null,
   "id": "c69a7061",
   "metadata": {},
   "outputs": [],
   "source": [
    "color = {\n",
    "    'big_canvas_fill': ['#a5e6c1', (0, 0, 0), (0, 0, 0)],\n",
    "    'big_canvas_out': ['#c7ffdf', (0, 0, 0), (-30, -30, -30)],\n",
    "    'control_panel_fill': ['#74c485', (0, 0, 0), (47, 47, 47)],\n",
    "    'control_panel_out': ['#74c485', (0, 0, 0), (47, 47, 47)],\n",
    "    'title_text_color': ['#007519', (0, 0, 0), (148, 148, 148)],\n",
    "    'text_color': ['#ffffff', (0, 0, 0), (-59, -59, -59)],\n",
    "    'text_color_active': ['#7affb4', (0, 0, 0), (10, 10, 10)],\n",
    "    'button_fill': ['#7affb4', (0, 0, 0), (10, 10, 10)],\n",
    "    'button_active': ['#ffffff', (0, 0, 0), (-59, -59, -59)],\n",
    "    'button_out': ['#7affb4', (0, 0, 0), (10, 10, 10)],\n",
    "    'rectangle_on': ['#74c485', (0, 0, 0), (47, 47, 47)],\n",
    "    'rectangle_off': ['#ffffff', (0, 0, 0), (-59, -59, -59)]\n",
    "}"
   ]
  }
 ],
 "metadata": {
  "kernelspec": {
   "display_name": "Python 3",
   "language": "python",
   "name": "python3"
  },
  "language_info": {
   "codemirror_mode": {
    "name": "ipython",
    "version": 3
   },
   "file_extension": ".py",
   "mimetype": "text/x-python",
   "name": "python",
   "nbconvert_exporter": "python",
   "pygments_lexer": "ipython3",
   "version": "3.8.8"
  }
 },
 "nbformat": 4,
 "nbformat_minor": 5
}
