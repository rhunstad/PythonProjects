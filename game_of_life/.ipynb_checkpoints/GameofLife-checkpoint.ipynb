{
 "cells": [
  {
   "cell_type": "code",
   "execution_count": 1,
   "id": "0a58ee84",
   "metadata": {},
   "outputs": [],
   "source": [
    "import numpy as np"
   ]
  },
  {
   "cell_type": "code",
   "execution_count": 47,
   "id": "f32be724",
   "metadata": {},
   "outputs": [],
   "source": [
    "A = np.zeros(shape=(5,5), dtype=\"int\")\n",
    "A[0, 0]"
   ]
  },
  {
   "cell_type": "code",
   "execution_count": 48,
   "id": "f6485369",
   "metadata": {},
   "outputs": [
    {
     "data": {
      "text/plain": [
       "array([[0, 0, 0, 0, 0],\n",
       "       [0, 0, 0, 0, 0],\n",
       "       [0, 0, 1, 1, 0],\n",
       "       [0, 0, 0, 1, 0],\n",
       "       [0, 0, 0, 0, 0]])"
      ]
     },
     "execution_count": 48,
     "metadata": {},
     "output_type": "execute_result"
    }
   ],
   "source": [
    "A"
   ]
  },
  {
   "cell_type": "code",
   "execution_count": 9,
   "id": "5147bf16",
   "metadata": {},
   "outputs": [],
   "source": [
    "B = np.insert(A, 0, 1, axis=1)\n",
    "B = np.insert(B, B.shape[1], 1, axis=1)\n",
    "B = np.insert(B, 0, 1, axis=0)\n",
    "B = np.insert(B, B.shape[0], 1, axis=0)"
   ]
  },
  {
   "cell_type": "code",
   "execution_count": 53,
   "id": "18b48687",
   "metadata": {},
   "outputs": [
    {
     "name": "stdout",
     "output_type": "stream",
     "text": [
      "[[0 0 0 0 0]\n",
      " [0 0 0 0 0]\n",
      " [0 0 1 1 0]\n",
      " [0 0 1 1 0]\n",
      " [0 0 0 0 0]]\n"
     ]
    }
   ],
   "source": [
    "B = np.zeros(shape=(A.shape[0], A.shape[1]), dtype='int')\n",
    "\n",
    "for i in range(1, A.shape[0]-1):\n",
    "    for j in range(1, A.shape[1]-1):\n",
    "        if A[i, j] == 1:\n",
    "            B[i, j] = int(live(i, j))\n",
    "        else:\n",
    "            B[i, j] = int(dead(i, j))\n",
    "            \n",
    "A = B\n",
    "print(A)"
   ]
  },
  {
   "cell_type": "code",
   "execution_count": 52,
   "id": "462a1ef7",
   "metadata": {},
   "outputs": [],
   "source": [
    "def dead(i, j):\n",
    "    total = 0\n",
    "    for x in range(i-1, i+2):\n",
    "        for y in range(j-1, j+2):\n",
    "            total += A[x, y]\n",
    "    \n",
    "    if total == 3:\n",
    "        return True\n",
    "    else:\n",
    "        return False\n",
    "\n",
    "    \n",
    "def live(i, j):\n",
    "    total = 0\n",
    "    for x in range(i-1, i+2):\n",
    "        for y in range(j-1, j+2):\n",
    "            total += A[x, y]\n",
    "    \n",
    "    if (total == 3) or (total == 4):\n",
    "        return True\n",
    "    else:\n",
    "        return False"
   ]
  },
  {
   "cell_type": "code",
   "execution_count": null,
   "id": "2d39465b",
   "metadata": {},
   "outputs": [],
   "source": []
  }
 ],
 "metadata": {
  "kernelspec": {
   "display_name": "Python 3",
   "language": "python",
   "name": "python3"
  },
  "language_info": {
   "codemirror_mode": {
    "name": "ipython",
    "version": 3
   },
   "file_extension": ".py",
   "mimetype": "text/x-python",
   "name": "python",
   "nbconvert_exporter": "python",
   "pygments_lexer": "ipython3",
   "version": "3.8.8"
  }
 },
 "nbformat": 4,
 "nbformat_minor": 5
}
