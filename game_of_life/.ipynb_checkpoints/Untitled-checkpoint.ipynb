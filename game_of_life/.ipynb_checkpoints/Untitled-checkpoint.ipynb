{
 "cells": [
  {
   "cell_type": "code",
   "execution_count": 22,
   "id": "9abfcab1",
   "metadata": {},
   "outputs": [],
   "source": [
    "## COLOR PALETTE: ## \n",
    "color = {\n",
    "    'big_canvas_fill': ['#a5e6c1', (0, 0, 0), (0, 0, 0)],\n",
    "    'big_canvas_out': ['#c7ffdf', (0, 0, 0), (-34, -25, -30)],\n",
    "    'control_panel_fill': ['#74c485', (0, 0, 0), (49, 34, 60)],\n",
    "    'control_panel_out': ['#74c485', (0, 0, 0), (49, 34, 60)],\n",
    "    'title_text_color': ['#007519', (0, 0, 0), (165, 113, 168)],\n",
    "    'text_color': ['#ffffff', (0, 0, 0), (-90, -25, -62)],\n",
    "    'text_color_active': ['#7affb4', (0, 0, 0), (43, -25, 13)],\n",
    "    'button_fill': ['#7affb4', (0, 0, 0), (43, -25, 13)],\n",
    "    'button_active': ['#ffffff', (0, 0, 0), (-90, -25, -62)],\n",
    "    'button_out': ['#7affb4', (0, 0, 0), (43, -25, 13)],\n",
    "    'rectangle_on': ['#74c485', (0, 0, 0), (49, 34, 60)],\n",
    "    'rectangle_off': ['#ffffff', (0, 0, 0), (-90, -25, -62)]\n",
    "}\n",
    "\n",
    "def minus(t1, t2):\n",
    "    t = [0,0,0]\n",
    "    for i in range(3):\n",
    "        t[i] = t1[i] - t2[i]\n",
    "    return tuple(t)\n",
    "\n",
    "\n",
    "def get_color_palette(base):\n",
    "    global color\n",
    "    base = to_rgb(base)\n",
    "\n",
    "    for item, value in color.items():\n",
    "        rgb_col = minus(base, value[2])\n",
    "        hex_col = to_hex(rgb_col)\n",
    "        value[0] = hex_col\n",
    "        value[1] = rgb_col\n",
    "        color[item] = value\n",
    "\n",
    "        \n",
    "def to_rgb(hex_color):\n",
    "    hex_color = hex_color.replace(\"#\", \"\")\n",
    "    return tuple([min(max(int(hex_color[i:i+2], 16), 0), 255) for i in range(0, len(hex_color), 2)])\n",
    "\n",
    "\n",
    "def to_hex(rgb_color):\n",
    "    return \"#\" + \"\".join([hex(j).replace(\"0x\", \"\") for j in rgb_color])"
   ]
  },
  {
   "cell_type": "code",
   "execution_count": 30,
   "id": "8f1f42a9",
   "metadata": {},
   "outputs": [],
   "source": [
    "get_color_palette(\"#ffffff\")"
   ]
  },
  {
   "cell_type": "code",
   "execution_count": 31,
   "id": "72e00ddb",
   "metadata": {},
   "outputs": [
    {
     "data": {
      "text/plain": [
       "{'big_canvas_fill': ['#ffffff', (255, 255, 255), (0, 0, 0)],\n",
       " 'big_canvas_out': ['#12111811d', (289, 280, 285), (-34, -25, -30)],\n",
       " 'control_panel_fill': ['#ceddc3', (206, 221, 195), (49, 34, 60)],\n",
       " 'control_panel_out': ['#ceddc3', (206, 221, 195), (49, 34, 60)],\n",
       " 'title_text_color': ['#5a8e57', (90, 142, 87), (165, 113, 168)],\n",
       " 'text_color': ['#15911813d', (345, 280, 317), (-90, -25, -62)],\n",
       " 'text_color_active': ['#d4118f2', (212, 280, 242), (43, -25, 13)],\n",
       " 'button_fill': ['#d4118f2', (212, 280, 242), (43, -25, 13)],\n",
       " 'button_active': ['#15911813d', (345, 280, 317), (-90, -25, -62)],\n",
       " 'button_out': ['#d4118f2', (212, 280, 242), (43, -25, 13)],\n",
       " 'rectangle_on': ['#ceddc3', (206, 221, 195), (49, 34, 60)],\n",
       " 'rectangle_off': ['#15911813d', (345, 280, 317), (-90, -25, -62)]}"
      ]
     },
     "execution_count": 31,
     "metadata": {},
     "output_type": "execute_result"
    }
   ],
   "source": [
    "color"
   ]
  },
  {
   "cell_type": "code",
   "execution_count": null,
   "id": "f901e286",
   "metadata": {},
   "outputs": [],
   "source": []
  }
 ],
 "metadata": {
  "kernelspec": {
   "display_name": "Python 3",
   "language": "python",
   "name": "python3"
  },
  "language_info": {
   "codemirror_mode": {
    "name": "ipython",
    "version": 3
   },
   "file_extension": ".py",
   "mimetype": "text/x-python",
   "name": "python",
   "nbconvert_exporter": "python",
   "pygments_lexer": "ipython3",
   "version": "3.8.8"
  }
 },
 "nbformat": 4,
 "nbformat_minor": 5
}
